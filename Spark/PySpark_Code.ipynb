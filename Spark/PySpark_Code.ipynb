{
 "cells": [
  {
   "cell_type": "code",
   "execution_count": 18,
   "id": "571ffd91",
   "metadata": {},
   "outputs": [],
   "source": [
    "import sys\n",
    "from pyspark import SparkContext, SparkConf\n",
    "conf = SparkConf()\n",
    "sc = SparkContext.getOrCreate(conf=conf)\n",
    "f_rdd = sc.wholeTextFiles(\"data/*\")"
   ]
  },
  {
   "cell_type": "code",
   "execution_count": 19,
   "id": "de52c913",
   "metadata": {},
   "outputs": [],
   "source": [
    "#Creat RDD by doing flatMap to get word count\n",
    "word_count = f_rdd.flatMap(lambda x : [((x[0],word),1) for word in x[1].lower().split()])"
   ]
  },
  {
   "cell_type": "code",
   "execution_count": 20,
   "id": "3235df0a",
   "metadata": {},
   "outputs": [],
   "source": [
    "# Create filter RDD \n",
    "filterWord = (\"they\", \"she\", \"he\", \"it\", \"the\", \"as\", \"is\", \"and\")\n",
    "filtered_RDD = word_count.filter(lambda x: x[0][1].lower() not in filterWord)"
   ]
  },
  {
   "cell_type": "code",
   "execution_count": 21,
   "id": "9218b3f5",
   "metadata": {},
   "outputs": [],
   "source": [
    "# Reduce job\n",
    "reduced_result = filtered_RDD.reduceByKey(lambda x, y: x + y)"
   ]
  },
  {
   "cell_type": "code",
   "execution_count": 22,
   "id": "0f263c2e",
   "metadata": {},
   "outputs": [],
   "source": [
    "#Output result\n",
    "output_RDD = reduced_result.map(lambda x: (x[0][1],[(x[0][0],x[1])]))\n",
    "output_reduced_result = output_RDD.reduceByKey(lambda x, y: x + y)"
   ]
  },
  {
   "cell_type": "code",
   "execution_count": 23,
   "id": "474d81c0",
   "metadata": {},
   "outputs": [
    {
     "name": "stderr",
     "output_type": "stream",
     "text": [
      "                                                                                \r"
     ]
    }
   ],
   "source": [
    "# Create output file\n",
    "output_reduced_result.coalesce(1).saveAsTextFile(\"output\")"
   ]
  },
  {
   "cell_type": "code",
   "execution_count": null,
   "id": "8f15ce25",
   "metadata": {},
   "outputs": [],
   "source": []
  }
 ],
 "metadata": {
  "kernelspec": {
   "display_name": "Python 3 (ipykernel)",
   "language": "python",
   "name": "python3"
  },
  "language_info": {
   "codemirror_mode": {
    "name": "ipython",
    "version": 3
   },
   "file_extension": ".py",
   "mimetype": "text/x-python",
   "name": "python",
   "nbconvert_exporter": "python",
   "pygments_lexer": "ipython3",
   "version": "3.9.7"
  }
 },
 "nbformat": 4,
 "nbformat_minor": 5
}
